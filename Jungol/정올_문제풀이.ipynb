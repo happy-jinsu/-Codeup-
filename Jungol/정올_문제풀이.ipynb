{
  "nbformat": 4,
  "nbformat_minor": 0,
  "metadata": {
    "colab": {
      "name": "정올 문제풀이.ipynb",
      "provenance": [],
      "collapsed_sections": []
    },
    "kernelspec": {
      "name": "python3",
      "display_name": "Python 3"
    },
    "language_info": {
      "name": "python"
    }
  },
  "cells": [
    {
      "cell_type": "code",
      "execution_count": 7,
      "metadata": {
        "colab": {
          "base_uri": "https://localhost:8080/"
        },
        "id": "kRoGcPAnMdKE",
        "outputId": "ada48618-1012-4782-94fd-9a812da3946a"
      },
      "outputs": [
        {
          "output_type": "stream",
          "name": "stdout",
          "text": [
            "10 + 20 = 30\n"
          ]
        }
      ],
      "source": [
        "num1 = 10\n",
        "num2 = 20\n",
        "num3 = 30\n",
        "\n",
        "print(num1,\"+\",num2,\"=\",num3)\n"
      ]
    },
    {
      "cell_type": "code",
      "source": [
        "num1 = 80.5\n",
        "num2 = 22.34\n",
        "num3 = 102.84\n",
        "\n",
        "print(num1,num2,num3)"
      ],
      "metadata": {
        "colab": {
          "base_uri": "https://localhost:8080/"
        },
        "id": "YGcqB1A4IGYp",
        "outputId": "538bf66e-aa56-4f56-9c73-61a1d9b93954"
      },
      "execution_count": 8,
      "outputs": [
        {
          "output_type": "stream",
          "name": "stdout",
          "text": [
            "80.5 22.34 102.84\n"
          ]
        }
      ]
    },
    {
      "cell_type": "code",
      "source": [
        "num1 = 10.5\n",
        "num2 = 50\n",
        "\n",
        "print(num1,\"*\",num2,\"=\",num1*num2)"
      ],
      "metadata": {
        "colab": {
          "base_uri": "https://localhost:8080/"
        },
        "id": "K4nDt107IVJr",
        "outputId": "1faef796-df9f-41cd-d495-c3185898498b"
      },
      "execution_count": 12,
      "outputs": [
        {
          "output_type": "stream",
          "name": "stdout",
          "text": [
            "10.5 * 50 = 525.0\n"
          ]
        }
      ]
    },
    {
      "cell_type": "code",
      "source": [
        "num = int(input())\n",
        "num1 = int(input())\n",
        "num2 = int(input())\n",
        "\n",
        "print(\"sum =\",num+num1+num2)\n",
        "print(\"avg =\",(num+num1+num2)//3 )"
      ],
      "metadata": {
        "colab": {
          "base_uri": "https://localhost:8080/"
        },
        "id": "sK0oIvPxI8r-",
        "outputId": "ed510011-57a8-449a-b2cb-3e638694853e"
      },
      "execution_count": 5,
      "outputs": [
        {
          "output_type": "stream",
          "name": "stdout",
          "text": [
            "20\n",
            "50\n",
            "100\n",
            "sum =  170\n",
            "avg =  56\n"
          ]
        }
      ]
    },
    {
      "cell_type": "code",
      "source": [
        "#print(\"yard?\")\n",
        "y = float(input(\"yard? \"))\n",
        "\n",
        "print(y,\"yard =\",y*91.44,\"cm\")\n"
      ],
      "metadata": {
        "colab": {
          "base_uri": "https://localhost:8080/"
        },
        "id": "fC4hYF4qpjEK",
        "outputId": "9e4ffaa4-95be-4750-dca3-870a3e4d81fa"
      },
      "execution_count": 11,
      "outputs": [
        {
          "output_type": "stream",
          "name": "stdout",
          "text": [
            "yard?10.1\n",
            "10.1 yard = 923.544 cm\n"
          ]
        }
      ]
    }
  ]
}